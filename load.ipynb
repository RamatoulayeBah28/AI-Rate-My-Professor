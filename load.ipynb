{
 "cells": [
  {
   "cell_type": "code",
   "execution_count": 52,
   "metadata": {},
   "outputs": [],
   "source": [
    "from dotenv import load_dotenv\n",
    "load_dotenv()\n",
    "from openai import OpenAI\n",
    "import os\n",
    "from pinecone import Pinecone, ServerlessSpec"
   ]
  },
  {
   "cell_type": "code",
   "execution_count": 53,
   "metadata": {},
   "outputs": [],
   "source": [
    "pc = Pinecone(api_key=os.getenv(\"PINECONE_API_KEY\"))\n",
    "pc.create_index(\n",
    "    name=\"rag\", dimension=1536, metric=\"cosine\", spec=ServerlessSpec(cloud=\"aws\", region=\"us-east-1\")\n",
    ")"
   ]
  },
  {
   "cell_type": "code",
   "execution_count": 58,
   "metadata": {},
   "outputs": [
    {
     "data": {
      "text/plain": [
       "[{'professor': 'Dr. Emily Chen',\n",
       "  'subject': 'Computer Science',\n",
       "  'stars': 4,\n",
       "  'reviews': 'Excellent teacher, explains complex concepts clearly. Assignments can be challenging.'},\n",
       " {'professor': 'Dr. Michael Johnson',\n",
       "  'subject': 'Physics',\n",
       "  'stars': 5,\n",
       "  'reviews': 'Passionate about the subject, engaging lectures. Always available for office hours.'},\n",
       " {'professor': 'Prof. Sarah Williams',\n",
       "  'subject': 'English Literature',\n",
       "  'stars': 3,\n",
       "  'reviews': 'Knowledgeable but sometimes disorganized. Grading can be inconsistent.'},\n",
       " {'professor': 'Dr. David Lee',\n",
       "  'subject': 'Biology',\n",
       "  'stars': 4,\n",
       "  'reviews': 'Great lab instructor, brings real-world examples to class. Exams are fair.'},\n",
       " {'professor': 'Prof. Maria Garcia',\n",
       "  'subject': 'History',\n",
       "  'stars': 5,\n",
       "  'reviews': 'Captivating storyteller, makes history come alive. Assignments encourage critical thinking.'},\n",
       " {'professor': 'Dr. Robert Taylor',\n",
       "  'subject': 'Chemistry',\n",
       "  'stars': 2,\n",
       "  'reviews': 'Brilliant researcher but struggles to explain concepts to undergrads. Harsh grader.'},\n",
       " {'professor': 'Prof. Jennifer Brown',\n",
       "  'subject': 'Psychology',\n",
       "  'stars': 4,\n",
       "  'reviews': 'Insightful lectures, encourages class participation. Heavy workload but worth it.'},\n",
       " {'professor': 'Dr. Thomas Wilson',\n",
       "  'subject': 'Mathematics',\n",
       "  'stars': 3,\n",
       "  'reviews': 'Thorough explanations but can be dry. Homework is challenging but helpful.'},\n",
       " {'professor': 'Prof. Lisa Anderson',\n",
       "  'subject': 'Sociology',\n",
       "  'stars': 5,\n",
       "  'reviews': 'Thought-provoking discussions, relates topics to current events. Fair grader.'},\n",
       " {'professor': 'Dr. James Smith',\n",
       "  'subject': 'Economics',\n",
       "  'stars': 4,\n",
       "  'reviews': 'Clear lecturer, uses practical examples. Exams can be tricky but reflect the material.'},\n",
       " {'professor': 'Prof. Elizabeth Davis',\n",
       "  'subject': 'Art History',\n",
       "  'stars': 5,\n",
       "  'reviews': 'Passionate about art, engaging presentations. Field trips are a highlight.'},\n",
       " {'professor': 'Dr. Richard Martin',\n",
       "  'subject': 'Political Science',\n",
       "  'stars': 3,\n",
       "  'reviews': 'Knowledgeable but can be biased. Encourages debate but sometimes dominates discussions.'},\n",
       " {'professor': 'Prof. Karen White',\n",
       "  'subject': 'Environmental Science',\n",
       "  'stars': 4,\n",
       "  'reviews': 'Enthusiastic about sustainability, practical assignments. Can be disorganized at times.'},\n",
       " {'professor': 'Dr. Daniel Kim',\n",
       "  'subject': 'Mechanical Engineering',\n",
       "  'stars': 5,\n",
       "  'reviews': 'Excellent at explaining complex concepts, helpful during office hours. Challenging but fair exams.'},\n",
       " {'professor': 'Prof. Rachel Green',\n",
       "  'subject': 'Philosophy',\n",
       "  'stars': 4,\n",
       "  'reviews': 'Stimulating discussions, encourages critical thinking. Reading list is extensive but rewarding.'},\n",
       " {'professor': 'Dr. Christopher Lee',\n",
       "  'subject': 'Astronomy',\n",
       "  'stars': 5,\n",
       "  'reviews': 'Passionate about space, uses multimedia effectively. Star-gazing sessions are unforgettable.'},\n",
       " {'professor': 'Prof. Amanda Nelson',\n",
       "  'subject': 'Linguistics',\n",
       "  'stars': 3,\n",
       "  'reviews': 'Knowledgeable but lectures can be dry. Assignments are interesting but grading is strict.'},\n",
       " {'professor': 'Dr. Steven Clark',\n",
       "  'subject': 'Geology',\n",
       "  'stars': 4,\n",
       "  'reviews': 'Engaging field trips, brings rocks to life. Exams are challenging but fair.'},\n",
       " {'professor': 'Prof. Laura Martinez',\n",
       "  'subject': 'Marketing',\n",
       "  'stars': 5,\n",
       "  'reviews': 'Industry experience brings valuable insights. Group projects are well-designed and relevant.'},\n",
       " {'professor': 'Dr. William Turner',\n",
       "  'subject': 'Music Theory',\n",
       "  'stars': 4,\n",
       "  'reviews': 'Skilled musician and teacher, patient with beginners. Coursework is demanding but rewarding.'}]"
      ]
     },
     "execution_count": 58,
     "metadata": {},
     "output_type": "execute_result"
    }
   ],
   "source": [
    "import json\n",
    "data = json.load(open(\"reviews.json\"))\n",
    "data['reviews']"
   ]
  },
  {
   "cell_type": "code",
   "execution_count": 66,
   "metadata": {},
   "outputs": [],
   "source": [
    "processed_data = []\n",
    "client = OpenAI()\n",
    "\n",
    "for review in data['reviews']:\n",
    "    response = client.embeddings.create(\n",
    "        input=review['reviews'],\n",
    "        model=\"text-embedding-3-small\",\n",
    "    )\n",
    "    embedding = response.data[0].embedding\n",
    "    processed_data.append({\n",
    "        \"values\": embedding,\n",
    "        \"id\": review[\"professor\"],\n",
    "        \"metadata\": {\n",
    "            \"review\": review[\"reviews\"],\n",
    "            \"subject\": review[\"subject\"],\n",
    "            \"stars\": review[\"stars\"]\n",
    "        }\n",
    "    })"
   ]
  },
  {
   "cell_type": "code",
   "execution_count": 67,
   "metadata": {},
   "outputs": [
    {
     "data": {
      "text/plain": [
       "{'upserted_count': 20}"
      ]
     },
     "execution_count": 67,
     "metadata": {},
     "output_type": "execute_result"
    }
   ],
   "source": [
    "index = pc.Index('rag')\n",
    "index.upsert(\n",
    "    vectors=processed_data,\n",
    "    namespace=\"ns1\"\n",
    ")"
   ]
  },
  {
   "cell_type": "code",
   "execution_count": 68,
   "metadata": {},
   "outputs": [
    {
     "data": {
      "text/plain": [
       "{'dimension': 1536,\n",
       " 'index_fullness': 0.0,\n",
       " 'namespaces': {'ns1': {'vector_count': 20}},\n",
       " 'total_vector_count': 20}"
      ]
     },
     "execution_count": 68,
     "metadata": {},
     "output_type": "execute_result"
    }
   ],
   "source": [
    "index.describe_index_stats()"
   ]
  }
 ],
 "metadata": {
  "kernelspec": {
   "display_name": "rag",
   "language": "python",
   "name": "python3"
  },
  "language_info": {
   "codemirror_mode": {
    "name": "ipython",
    "version": 3
   },
   "file_extension": ".py",
   "mimetype": "text/x-python",
   "name": "python",
   "nbconvert_exporter": "python",
   "pygments_lexer": "ipython3",
   "version": "3.11.5"
  }
 },
 "nbformat": 4,
 "nbformat_minor": 2
}
